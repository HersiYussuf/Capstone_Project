{
 "cells": [
  {
   "cell_type": "markdown",
   "metadata": {},
   "source": [
    "## <Span style='color:orange'>**1. Load Data**</SPAN>"
   ]
  },
  {
   "cell_type": "code",
   "execution_count": 299,
   "metadata": {},
   "outputs": [],
   "source": [
    "# Importing the libraries\n",
    "import pandas as pd\n",
    "import numpy as np\n",
    "import matplotlib.pyplot as plt\n",
    "%matplotlib inline\n",
    "import xgboost\n",
    "\n",
    "from sklearn.model_selection import cross_val_score\n",
    "from sklearn.model_selection import train_test_split\n",
    "from sklearn.model_selection import cross_validate\n",
    "\n",
    "from sklearn.preprocessing import LabelEncoder\n",
    "from sklearn.preprocessing import StandardScaler\n",
    "\n",
    "from sklearn.metrics import confusion_matrix\n",
    "from sklearn.metrics import classification_report\n",
    "from sklearn.metrics import accuracy_score\n",
    "from sklearn.metrics import recall_score, precision_score, f1_score\n",
    "from sklearn.metrics import roc_curve, auc, plot_confusion_matrix\n",
    "\n",
    "from sklearn.linear_model import LogisticRegression\n",
    "from sklearn.pipeline import Pipeline\n",
    "from sklearn.ensemble import RandomForestClassifier\n",
    "from sklearn.tree import DecisionTreeClassifier\n",
    "from sklearn.dummy import DummyClassifier\n",
    "\n",
    "\n",
    "from xgboost import XGBClassifier\n",
    "from imblearn.over_sampling import SMOTE \n",
    "from collections import Counter\n",
    "from sympy.abc import y\n",
    "\n"
   ]
  },
  {
   "cell_type": "code",
   "execution_count": 271,
   "metadata": {},
   "outputs": [],
   "source": [
    "# import display that can display maximum columns and rows\n",
    "pd.set_option('display.max_columns', 50)\n",
    "pd.set_option('display.max_rows', 200)"
   ]
  },
  {
   "cell_type": "code",
   "execution_count": 272,
   "metadata": {},
   "outputs": [
    {
     "data": {
      "text/html": [
       "<div>\n",
       "<style scoped>\n",
       "    .dataframe tbody tr th:only-of-type {\n",
       "        vertical-align: middle;\n",
       "    }\n",
       "\n",
       "    .dataframe tbody tr th {\n",
       "        vertical-align: top;\n",
       "    }\n",
       "\n",
       "    .dataframe thead th {\n",
       "        text-align: right;\n",
       "    }\n",
       "</style>\n",
       "<table border=\"1\" class=\"dataframe\">\n",
       "  <thead>\n",
       "    <tr style=\"text-align: right;\">\n",
       "      <th></th>\n",
       "      <th>race</th>\n",
       "      <th>gender</th>\n",
       "      <th>age</th>\n",
       "      <th>discharge_disposition_id</th>\n",
       "      <th>admission_source_id</th>\n",
       "      <th>time_in_hospital</th>\n",
       "      <th>num_lab_procedures</th>\n",
       "      <th>num_procedures</th>\n",
       "      <th>num_medications</th>\n",
       "      <th>diag_1</th>\n",
       "      <th>diag_2</th>\n",
       "      <th>diag_3</th>\n",
       "      <th>number_diagnoses</th>\n",
       "      <th>max_glu_serum</th>\n",
       "      <th>A1Cresult</th>\n",
       "      <th>metformin</th>\n",
       "      <th>repaglinide</th>\n",
       "      <th>glimepiride</th>\n",
       "      <th>glipizide</th>\n",
       "      <th>glyburide</th>\n",
       "      <th>pioglitazone</th>\n",
       "      <th>rosiglitazone</th>\n",
       "      <th>insulin</th>\n",
       "      <th>change</th>\n",
       "      <th>diabetesMed</th>\n",
       "      <th>readmitted</th>\n",
       "      <th>num_total_visits</th>\n",
       "    </tr>\n",
       "  </thead>\n",
       "  <tbody>\n",
       "    <tr>\n",
       "      <th>0</th>\n",
       "      <td>Caucasian</td>\n",
       "      <td>0</td>\n",
       "      <td>15</td>\n",
       "      <td>Discharged to home</td>\n",
       "      <td>Emergency</td>\n",
       "      <td>3</td>\n",
       "      <td>59</td>\n",
       "      <td>0</td>\n",
       "      <td>18</td>\n",
       "      <td>Endocrine, Nutritional, Metabolic, Immunity</td>\n",
       "      <td>Diabetes</td>\n",
       "      <td>Endocrine, Nutritional, Metabolic, Immunity</td>\n",
       "      <td>9</td>\n",
       "      <td>None</td>\n",
       "      <td>None</td>\n",
       "      <td>-2</td>\n",
       "      <td>-2</td>\n",
       "      <td>-2</td>\n",
       "      <td>-2</td>\n",
       "      <td>-2</td>\n",
       "      <td>-2</td>\n",
       "      <td>-2</td>\n",
       "      <td>1</td>\n",
       "      <td>1</td>\n",
       "      <td>1</td>\n",
       "      <td>0</td>\n",
       "      <td>0</td>\n",
       "    </tr>\n",
       "    <tr>\n",
       "      <th>1</th>\n",
       "      <td>AfricanAmerican</td>\n",
       "      <td>0</td>\n",
       "      <td>25</td>\n",
       "      <td>Discharged to home</td>\n",
       "      <td>Emergency</td>\n",
       "      <td>2</td>\n",
       "      <td>11</td>\n",
       "      <td>5</td>\n",
       "      <td>13</td>\n",
       "      <td>Pregnancy, Childbirth</td>\n",
       "      <td>Diabetes</td>\n",
       "      <td>External causes of injury</td>\n",
       "      <td>6</td>\n",
       "      <td>None</td>\n",
       "      <td>None</td>\n",
       "      <td>-2</td>\n",
       "      <td>-2</td>\n",
       "      <td>-2</td>\n",
       "      <td>0</td>\n",
       "      <td>-2</td>\n",
       "      <td>-2</td>\n",
       "      <td>-2</td>\n",
       "      <td>-2</td>\n",
       "      <td>0</td>\n",
       "      <td>1</td>\n",
       "      <td>0</td>\n",
       "      <td>3</td>\n",
       "    </tr>\n",
       "    <tr>\n",
       "      <th>2</th>\n",
       "      <td>Caucasian</td>\n",
       "      <td>1</td>\n",
       "      <td>35</td>\n",
       "      <td>Discharged to home</td>\n",
       "      <td>Emergency</td>\n",
       "      <td>2</td>\n",
       "      <td>44</td>\n",
       "      <td>1</td>\n",
       "      <td>16</td>\n",
       "      <td>Infectious and Parasitic</td>\n",
       "      <td>Diabetes</td>\n",
       "      <td>Circulatory</td>\n",
       "      <td>7</td>\n",
       "      <td>None</td>\n",
       "      <td>None</td>\n",
       "      <td>-2</td>\n",
       "      <td>-2</td>\n",
       "      <td>-2</td>\n",
       "      <td>-2</td>\n",
       "      <td>-2</td>\n",
       "      <td>-2</td>\n",
       "      <td>-2</td>\n",
       "      <td>1</td>\n",
       "      <td>1</td>\n",
       "      <td>1</td>\n",
       "      <td>0</td>\n",
       "      <td>0</td>\n",
       "    </tr>\n",
       "    <tr>\n",
       "      <th>3</th>\n",
       "      <td>Caucasian</td>\n",
       "      <td>1</td>\n",
       "      <td>45</td>\n",
       "      <td>Discharged to home</td>\n",
       "      <td>Emergency</td>\n",
       "      <td>1</td>\n",
       "      <td>51</td>\n",
       "      <td>0</td>\n",
       "      <td>8</td>\n",
       "      <td>Neoplasms</td>\n",
       "      <td>Neoplasms</td>\n",
       "      <td>Diabetes</td>\n",
       "      <td>5</td>\n",
       "      <td>None</td>\n",
       "      <td>None</td>\n",
       "      <td>-2</td>\n",
       "      <td>-2</td>\n",
       "      <td>-2</td>\n",
       "      <td>0</td>\n",
       "      <td>-2</td>\n",
       "      <td>-2</td>\n",
       "      <td>-2</td>\n",
       "      <td>0</td>\n",
       "      <td>1</td>\n",
       "      <td>1</td>\n",
       "      <td>0</td>\n",
       "      <td>0</td>\n",
       "    </tr>\n",
       "    <tr>\n",
       "      <th>4</th>\n",
       "      <td>Caucasian</td>\n",
       "      <td>1</td>\n",
       "      <td>55</td>\n",
       "      <td>Discharged to home</td>\n",
       "      <td>Referral</td>\n",
       "      <td>3</td>\n",
       "      <td>31</td>\n",
       "      <td>6</td>\n",
       "      <td>16</td>\n",
       "      <td>Circulatory</td>\n",
       "      <td>Circulatory</td>\n",
       "      <td>Diabetes</td>\n",
       "      <td>9</td>\n",
       "      <td>None</td>\n",
       "      <td>None</td>\n",
       "      <td>-2</td>\n",
       "      <td>-2</td>\n",
       "      <td>-2</td>\n",
       "      <td>-2</td>\n",
       "      <td>-2</td>\n",
       "      <td>-2</td>\n",
       "      <td>-2</td>\n",
       "      <td>0</td>\n",
       "      <td>0</td>\n",
       "      <td>1</td>\n",
       "      <td>0</td>\n",
       "      <td>0</td>\n",
       "    </tr>\n",
       "  </tbody>\n",
       "</table>\n",
       "</div>"
      ],
      "text/plain": [
       "              race  gender  age discharge_disposition_id admission_source_id  \\\n",
       "0        Caucasian       0   15       Discharged to home           Emergency   \n",
       "1  AfricanAmerican       0   25       Discharged to home           Emergency   \n",
       "2        Caucasian       1   35       Discharged to home           Emergency   \n",
       "3        Caucasian       1   45       Discharged to home           Emergency   \n",
       "4        Caucasian       1   55       Discharged to home            Referral   \n",
       "\n",
       "   time_in_hospital  num_lab_procedures  num_procedures  num_medications  \\\n",
       "0                 3                  59               0               18   \n",
       "1                 2                  11               5               13   \n",
       "2                 2                  44               1               16   \n",
       "3                 1                  51               0                8   \n",
       "4                 3                  31               6               16   \n",
       "\n",
       "                                        diag_1       diag_2  \\\n",
       "0  Endocrine, Nutritional, Metabolic, Immunity     Diabetes   \n",
       "1                        Pregnancy, Childbirth     Diabetes   \n",
       "2                     Infectious and Parasitic     Diabetes   \n",
       "3                                    Neoplasms    Neoplasms   \n",
       "4                                  Circulatory  Circulatory   \n",
       "\n",
       "                                        diag_3  number_diagnoses  \\\n",
       "0  Endocrine, Nutritional, Metabolic, Immunity                 9   \n",
       "1                    External causes of injury                 6   \n",
       "2                                  Circulatory                 7   \n",
       "3                                     Diabetes                 5   \n",
       "4                                     Diabetes                 9   \n",
       "\n",
       "  max_glu_serum A1Cresult  metformin  repaglinide  glimepiride  glipizide  \\\n",
       "0          None      None         -2           -2           -2         -2   \n",
       "1          None      None         -2           -2           -2          0   \n",
       "2          None      None         -2           -2           -2         -2   \n",
       "3          None      None         -2           -2           -2          0   \n",
       "4          None      None         -2           -2           -2         -2   \n",
       "\n",
       "   glyburide  pioglitazone  rosiglitazone  insulin  change  diabetesMed  \\\n",
       "0         -2            -2             -2        1       1            1   \n",
       "1         -2            -2             -2       -2       0            1   \n",
       "2         -2            -2             -2        1       1            1   \n",
       "3         -2            -2             -2        0       1            1   \n",
       "4         -2            -2             -2        0       0            1   \n",
       "\n",
       "   readmitted  num_total_visits  \n",
       "0           0                 0  \n",
       "1           0                 3  \n",
       "2           0                 0  \n",
       "3           0                 0  \n",
       "4           0                 0  "
      ]
     },
     "execution_count": 272,
     "metadata": {},
     "output_type": "execute_result"
    }
   ],
   "source": [
    "# Loading data from clean_data.csv\n",
    "df = pd.read_csv('clean_data.csv')\n",
    "df.head()"
   ]
  },
  {
   "cell_type": "markdown",
   "metadata": {},
   "source": [
    "## <span style='color:green'>**2. Data Preprocessing**</SPAN>"
   ]
  },
  {
   "cell_type": "markdown",
   "metadata": {},
   "source": [
    "We have some columns in the dataset that are categorical. In the next cells we will do lable encoding there categorical variable before we use them in the modeling. "
   ]
  },
  {
   "cell_type": "code",
   "execution_count": 273,
   "metadata": {},
   "outputs": [],
   "source": [
    "\n",
    "# LabelEncoding some columns\n",
    "def label_encoding(df, cols):\n",
    "    for col in cols:\n",
    "        # Instantiate the label encoder object\n",
    "        le = LabelEncoder()\n",
    "        # Fit the label encoder object to the data\n",
    "        df[col] = le.fit_transform(df[col])\n",
    "        print(df[col].unique())\n",
    "        "
   ]
  },
  {
   "cell_type": "code",
   "execution_count": 274,
   "metadata": {},
   "outputs": [
    {
     "name": "stdout",
     "output_type": "stream",
     "text": [
      "[2 0 4 1 3]\n",
      "[0 2 3 1]\n",
      "[0 5 1 2 3 4]\n",
      "[ 5 15  8 12  1  3 16  9 18  6  7 10 11 14  4 13  2  0 17]\n",
      "[ 3 12  1 16  0  9 11  7  8  5  4 18  6 13 14 10 15  2 17]\n",
      "[ 5  6  1  3  8 16  9 12  7 14  4 18 10 11  2 13 17 15  0]\n",
      "[2 0 1 3]\n",
      "[2 1 3 0]\n"
     ]
    }
   ],
   "source": [
    "# Grouping the categorical variables to be label encoded\n",
    "cols_to_encode = ['race','admission_source_id', 'discharge_disposition_id',\n",
    "                    'diag_1', 'diag_2', 'diag_3', 'A1Cresult', 'max_glu_serum']\n",
    "\n",
    "# Call the label_encoding function\n",
    "label_encoding(df, cols_to_encode)\n",
    "\n",
    "# Concatenate the encoded columns to the original DataFrame\n",
    "df = pd.concat([df, df[cols_to_encode]], axis=1)\n"
   ]
  },
  {
   "cell_type": "markdown",
   "metadata": {},
   "source": [
    "We will perform splitting of the dataset into X_train, X_test, y_train and y_test. Then we scale the X_train and X_test before using them for modeling."
   ]
  },
  {
   "cell_type": "code",
   "execution_count": 275,
   "metadata": {},
   "outputs": [],
   "source": [
    "# Split the concatenated df\n",
    "# Define the target and features label\n",
    "\n",
    "#Feature\n",
    "X = df.drop(['readmitted'], axis=1)\n",
    "\n",
    "#Target\n",
    "y = df['readmitted']\n",
    "\n",
    "# Perform train-test split\n",
    "X_train, X_test, y_train, y_test = train_test_split(X, y, random_state=42, test_size=.25)\n",
    "\n",
    "# print the shapes of the four datasets\n",
    "X_train.shape, X_test.shape, y_train.shape, y_test.shape\n",
    "\n",
    "\n",
    "#Standard Scaling\n",
    "scaler = StandardScaler()\n",
    "\n",
    "# Transform the X_train and X_test\n",
    "X_train_scaled = scaler.fit_transform(X_train)\n",
    "X_test_scaled = scaler.transform(X_test)"
   ]
  },
  {
   "cell_type": "markdown",
   "metadata": {},
   "source": [
    "## <span style='color:blue'>**3. Modeling**</SPAN>"
   ]
  },
  {
   "cell_type": "markdown",
   "metadata": {},
   "source": [
    "In this section we will start with a dummy model just to try and see how our model perform of the training and unseen data. Dummy model will be our baseline model. "
   ]
  },
  {
   "cell_type": "markdown",
   "metadata": {},
   "source": [
    "### <span style='color:cyan'>**1. Dummy Model**</SPAN>"
   ]
  },
  {
   "cell_type": "code",
   "execution_count": 276,
   "metadata": {},
   "outputs": [
    {
     "name": "stdout",
     "output_type": "stream",
     "text": [
      "Accuracy: 0.882\n",
      "              precision    recall  f1-score   support\n",
      "\n",
      "           0       0.88      1.00      0.94     21102\n",
      "           1       0.00      0.00      0.00      2811\n",
      "\n",
      "    accuracy                           0.88     23913\n",
      "   macro avg       0.44      0.50      0.47     23913\n",
      "weighted avg       0.78      0.88      0.83     23913\n",
      "\n"
     ]
    },
    {
     "name": "stderr",
     "output_type": "stream",
     "text": [
      "c:\\Users\\hp\\anaconda3\\envs\\learn-env\\lib\\site-packages\\sklearn\\metrics\\_classification.py:1221: UndefinedMetricWarning: Precision and F-score are ill-defined and being set to 0.0 in labels with no predicted samples. Use `zero_division` parameter to control this behavior.\n",
      "  _warn_prf(average, modifier, msg_start, len(result))\n"
     ]
    }
   ],
   "source": [
    "# Dummy model for testing purposes\n",
    "# instantiate the model\n",
    "dummy = DummyClassifier(strategy=\"most_frequent\", random_state=42)\n",
    "\n",
    "# fit the model\n",
    "dummy.fit(X_train_scaled, y_train)\n",
    "\n",
    "# predict the test set result\n",
    "y_pred = dummy.predict(X_test_scaled)\n",
    "\n",
    "# evaluate the model\n",
    "print(f\"Accuracy: {dummy.score(X_test_scaled, y_test):.3f}\")\n",
    "\n",
    "# print the classification report\n",
    "print(classification_report(y_test, y_pred))\n"
   ]
  },
  {
   "cell_type": "code",
   "execution_count": 277,
   "metadata": {},
   "outputs": [
    {
     "name": "stdout",
     "output_type": "stream",
     "text": [
      "The Cross Validation Score is: 0.8855434282607787\n"
     ]
    }
   ],
   "source": [
    "# Cross_validation\n",
    "# initialize the cross_val_score\n",
    "dummy_cross_val = cross_val_score(dummy, X_train, y_train, cv=3).mean()\n",
    "\n",
    "#Print the cross_val_score\n",
    "print(\"The Cross Validation Score is:\", dummy_cross_val)\n"
   ]
  },
  {
   "cell_type": "markdown",
   "metadata": {},
   "source": [
    "The dummy model was able to predict 88% accurately and a macro average of 50% and the recall of 100% on  the No readmission and 0% on the readmission. This is because of the class imbalance. We will go ahead and to oversampling to deal with class imbalance. "
   ]
  },
  {
   "cell_type": "code",
   "execution_count": 278,
   "metadata": {},
   "outputs": [
    {
     "name": "stdout",
     "output_type": "stream",
     "text": [
      "Original dataset shape Counter({0: 63528, 1: 8211})\n",
      "New dataset shape Counter({0: 63528, 1: 63528})\n"
     ]
    }
   ],
   "source": [
    "# Dummy Model with oversampling to clear class imbalance\n",
    "\n",
    "#instantiate oversampled model\n",
    "print('Original dataset shape {}'.format(Counter(y_train)))\n",
    "sm = SMOTE(random_state=42)\n",
    "\n",
    "# Fit the sample and apply the new training data to the model\n",
    "train_input_new, train_output_new = sm.fit_sample(X_train_scaled, y_train)\n",
    "print('New dataset shape {}'.format(Counter(train_output_new)))\n"
   ]
  },
  {
   "cell_type": "code",
   "execution_count": 279,
   "metadata": {},
   "outputs": [
    {
     "name": "stdout",
     "output_type": "stream",
     "text": [
      "Original dataset shape Counter({0: 63528, 1: 8211})\n"
     ]
    },
    {
     "name": "stdout",
     "output_type": "stream",
     "text": [
      "New dataset shape Counter({0: 21102, 1: 21102})\n"
     ]
    }
   ],
   "source": [
    "#instantiate oversampled model\n",
    "print('Original dataset shape {}'.format(Counter(y_train)))\n",
    "sm = SMOTE(random_state=42)\n",
    "test_input_new, test_output_new = sm.fit_sample(X_test_scaled, y_test)\n",
    "print('New dataset shape {}'.format(Counter(test_output_new)))"
   ]
  },
  {
   "cell_type": "code",
   "execution_count": 280,
   "metadata": {},
   "outputs": [
    {
     "name": "stdout",
     "output_type": "stream",
     "text": [
      "Accuracy: 0.882\n",
      "              precision    recall  f1-score   support\n",
      "\n",
      "           0       0.88      1.00      0.94     21102\n",
      "           1       0.00      0.00      0.00      2811\n",
      "\n",
      "    accuracy                           0.88     23913\n",
      "   macro avg       0.44      0.50      0.47     23913\n",
      "weighted avg       0.78      0.88      0.83     23913\n",
      "\n"
     ]
    },
    {
     "name": "stderr",
     "output_type": "stream",
     "text": [
      "c:\\Users\\hp\\anaconda3\\envs\\learn-env\\lib\\site-packages\\sklearn\\metrics\\_classification.py:1221: UndefinedMetricWarning: Precision and F-score are ill-defined and being set to 0.0 in labels with no predicted samples. Use `zero_division` parameter to control this behavior.\n",
      "  _warn_prf(average, modifier, msg_start, len(result))\n"
     ]
    }
   ],
   "source": [
    "# instantiate the model with oversampled\n",
    "dummy_over = DummyClassifier(strategy=\"most_frequent\", random_state=42)\n",
    "\n",
    "# fit the model\n",
    "dummy_over.fit(train_input_new, train_output_new)\n",
    "\n",
    "# predict the test set result\n",
    "y_pred = dummy_over.predict(X_test_scaled)\n",
    "\n",
    "# evaluate the model\n",
    "print(f\"Accuracy: {dummy_over.score(X_test_scaled, y_test):.3f}\")\n",
    "\n",
    "# print the classification report\n",
    "print(classification_report(y_test, y_pred))"
   ]
  },
  {
   "cell_type": "markdown",
   "metadata": {},
   "source": [
    "From the observation above even after oversampling the oversampled dummy did not much different from the first dummy model. Still it was able to give an accuracy of 88% and a macro average of 50% which is way below our target metric of success. We will go ahead and perform other models like \n",
    "1. Logistic Regression\n",
    "2. Random Forest Classifier\n",
    "3. Decision Tree Classifier and\n",
    "4. XGBoost Classifier"
   ]
  },
  {
   "cell_type": "markdown",
   "metadata": {},
   "source": [
    "## <span style='color:purple'> **2. Logistic Regression**</SPAN>"
   ]
  },
  {
   "cell_type": "markdown",
   "metadata": {},
   "source": [
    "In the following cells we will perform a logistic regression model. The model will start with a normal logistic regression of class imbalance then we proceed to a logistic regression with a balanced class"
   ]
  },
  {
   "cell_type": "code",
   "execution_count": 281,
   "metadata": {},
   "outputs": [
    {
     "name": "stdout",
     "output_type": "stream",
     "text": [
      "Recall:       0.004624688722874422\n",
      "F1:           0.00906555090655509\n",
      "Precision:    0.22807017543859648\n",
      "Accuracy:     0.8811525111863839\n"
     ]
    },
    {
     "data": {
      "text/plain": [
       "array([0.88534987, 0.88423474, 0.88500139, 0.88437413, 0.88457517])"
      ]
     },
     "execution_count": 281,
     "metadata": {},
     "output_type": "execute_result"
    }
   ],
   "source": [
    "# Instantiate a logistice regression mode\n",
    "logit = LogisticRegression(fit_intercept=True, penalty='l2')\n",
    "\n",
    "# Fit the model to the data\n",
    "logit.fit(X_train_scaled, y_train)\n",
    "\n",
    "# Predict on the test data\n",
    "y_pred = logit.predict(X_test_scaled)\n",
    "\n",
    "#print recall and precision\n",
    "print('Recall:      ', recall_score(y_test, y_pred))\n",
    "\n",
    "#print f1 score\n",
    "print('F1:          ',  f1_score(y_test, y_pred))\n",
    "\n",
    "#print precision\n",
    "print('Precision:   ', precision_score(y_test, y_pred))\n",
    "\n",
    "#print accuracy\n",
    "\n",
    "print('Accuracy:    ', accuracy_score(y_test, y_pred))\n",
    "\n",
    "#print cross validation score\n",
    "cross_val_score(logit, X_train_scaled, y_train, cv=5)\n"
   ]
  },
  {
   "cell_type": "markdown",
   "metadata": {},
   "source": [
    "Based on the provided metrics, it appears that the model's performance is relatively worse. Let's analyze the metrics:\n",
    "\n",
    "1. Recall: Recall (also known as sensitivity) measures the model's ability to correctly identify positive instances (class 1) out of all the actual positive instances. In this case, the recall is extremely low at 0.0046. This means that the model is only able to identify a very small percentage of the actual positive instances, and it is missing a significant number of them.\n",
    "\n",
    "2. F1 Score: The F1 score is the harmonic mean of precision and recall and provides an overall measure of the model's performance. With an F1 score of 0.0091, which is also very low, it indicates that the model's ability to balance precision and recall is poor.\n",
    "\n",
    "3. Precision: Precision measures the model's ability to correctly classify instances as positive (class 1) out of all the instances predicted as positive. With a precision of 0.2281, it suggests that when the model predicts a positive instance, it is correct only about 22.8% of the time. The majority of instances predicted as positive are likely false positives.\n",
    "\n",
    "4. Accuracy: Accuracy represents the overall correctness of the model's predictions. However, it can be misleading in imbalanced datasets where the majority class dominates. In this case, the accuracy is relatively high at 0.8812, but it does not reflect the model's poor performance in correctly identifying the positive instances.\n",
    "\n",
    "Considering the low recall, low F1 score, and low precision, it indicates that the model is struggling to correctly identify positive instances and has a high rate of false positives. Therefore, based on these metrics, the model can be considered as relatively worse or ineffective for the given task.\n",
    "\n",
    "This is a worse model then the dummy model despite having the same accuracy of 88% as the dummy model. "
   ]
  },
  {
   "cell_type": "code",
   "execution_count": 282,
   "metadata": {},
   "outputs": [
    {
     "data": {
      "text/html": [
       "<div>\n",
       "<style scoped>\n",
       "    .dataframe tbody tr th:only-of-type {\n",
       "        vertical-align: middle;\n",
       "    }\n",
       "\n",
       "    .dataframe tbody tr th {\n",
       "        vertical-align: top;\n",
       "    }\n",
       "\n",
       "    .dataframe thead th {\n",
       "        text-align: right;\n",
       "    }\n",
       "</style>\n",
       "<table border=\"1\" class=\"dataframe\">\n",
       "  <thead>\n",
       "    <tr style=\"text-align: right;\">\n",
       "      <th>Predict</th>\n",
       "      <th>0</th>\n",
       "      <th>1</th>\n",
       "      <th>All</th>\n",
       "    </tr>\n",
       "    <tr>\n",
       "      <th>Actual</th>\n",
       "      <th></th>\n",
       "      <th></th>\n",
       "      <th></th>\n",
       "    </tr>\n",
       "  </thead>\n",
       "  <tbody>\n",
       "    <tr>\n",
       "      <th>0</th>\n",
       "      <td>5216</td>\n",
       "      <td>10</td>\n",
       "      <td>5226</td>\n",
       "    </tr>\n",
       "    <tr>\n",
       "      <th>1</th>\n",
       "      <td>703</td>\n",
       "      <td>1</td>\n",
       "      <td>704</td>\n",
       "    </tr>\n",
       "    <tr>\n",
       "      <th>All</th>\n",
       "      <td>5919</td>\n",
       "      <td>11</td>\n",
       "      <td>5930</td>\n",
       "    </tr>\n",
       "  </tbody>\n",
       "</table>\n",
       "</div>"
      ],
      "text/plain": [
       "Predict     0   1   All\n",
       "Actual                 \n",
       "0        5216  10  5226\n",
       "1         703   1   704\n",
       "All      5919  11  5930"
      ]
     },
     "execution_count": 282,
     "metadata": {},
     "output_type": "execute_result"
    }
   ],
   "source": [
    "logit_pred = logit.predict(X_test_scaled)\n",
    "pd.crosstab(pd.Series(y_test, name = 'Actual'), pd.Series(logit_pred, name = 'Predict'), margins = True)"
   ]
  },
  {
   "cell_type": "markdown",
   "metadata": {},
   "source": [
    "The table above represents a confusion matrix for a classification model's predictions. The rows represent the actual classes, and the columns represent the predicted classes. Each cell in the table shows the count of instances where the predicted class aligns with the actual class.\n",
    "\n",
    ">1. The top left cell (row 0, column 0) shows that the model predicted 5,216 instances as class 0 when the actual class was also 0.\n",
    ">2. The top right cell (row 0, column 1) shows that the model predicted 10 instances as class 1 when the actual class was 0.\n",
    ">3. The bottom left cell (row 1, column 0) shows that the model predicted 703 instances as class 0 when the actual class was 1.\n",
    ">4. The bottom right cell (row 1, column 1) shows that the model predicted 1 instance as class 1 when the actual class was also 1."
   ]
  },
  {
   "cell_type": "code",
   "execution_count": 283,
   "metadata": {},
   "outputs": [
    {
     "name": "stdout",
     "output_type": "stream",
     "text": [
      "Original dataset shape Counter({0: 63528, 1: 8211})\n",
      "New dataset shape Counter({0: 63528, 1: 63528})\n"
     ]
    }
   ],
   "source": [
    "#Instantiating oversampled dataset\n",
    "print('Original dataset shape {}'.format(Counter(y_train)))\n",
    "sm = SMOTE(random_state=42)\n",
    "train_input_new, train_output_new = sm.fit_sample(X_train_scaled, y_train)\n",
    "print('New dataset shape {}'.format(Counter(train_output_new)))"
   ]
  },
  {
   "cell_type": "code",
   "execution_count": 284,
   "metadata": {},
   "outputs": [
    {
     "name": "stdout",
     "output_type": "stream",
     "text": [
      "Recall:       0.5744842907013646\n",
      "F1:           0.5935471178437931\n",
      "Precision:    0.6139184697822696\n",
      "Accuracy:     0.6097468832640726\n",
      "0.6097468832640726\n"
     ]
    }
   ],
   "source": [
    "train_input_new = pd.DataFrame(train_input_new, columns = list(X.columns))\n",
    "\n",
    "# Spliting the new data into training and testing sets\n",
    "X_train_scaled, X_test_scaled, y_train, y_test = train_test_split(train_input_new, train_output_new, test_size=0.25, random_state=42)\n",
    "\n",
    "#Instantiate the mode\n",
    "logit1 = LogisticRegression(fit_intercept=True, penalty='l2')\n",
    "\n",
    "# Fit the mode\n",
    "logit1.fit(X_train_scaled, y_train)\n",
    "\n",
    "#predict the output\n",
    "y_pred = logit1.predict(X_test_scaled)\n",
    "\n",
    "#print recall and precision\n",
    "print('Recall:      ', recall_score(y_test, y_pred))\n",
    "\n",
    "#print f1 score\n",
    "print('F1:          ',  f1_score(y_test, y_pred))\n",
    "\n",
    "#print precision\n",
    "print('Precision:   ', precision_score(y_test, y_pred))\n",
    "\n",
    "#print accuracy\n",
    "\n",
    "print('Accuracy:    ', accuracy_score(y_test, y_pred))\n",
    "\n",
    "#print cross validation score\n",
    "cross_val_score(logit1, X_train_scaled, y_train, cv=5)\n",
    "\n",
    "print(logit1.score(X_test_scaled, y_test))\n",
    "\n"
   ]
  },
  {
   "cell_type": "markdown",
   "metadata": {},
   "source": [
    "Based on the output above, the model's performance seems to be moderate:\n",
    "\n",
    "1. Recall: The recall is 0.5745, indicating that the model can correctly identify approximately 57.45% of the positive instances out of all the actual positive instances. This is relatively better compared to the previous scenario and suggests that the model is performing decently in identifying positive cases.\n",
    "\n",
    "2. F1 Score: The F1 score is 0.5935, which is a harmonic mean of precision and recall. It provides an overall measure of the model's performance, balancing both precision and recall. With an F1 score close to 0.6, it suggests that the model has a reasonable balance between correctly classifying positive instances and minimizing false positives.\n",
    "\n",
    "3. Precision: The precision is 0.6139, indicating that when the model predicts a positive instance, it is correct approximately 61.39% of the time. This suggests that the model is performing relatively well in terms of precision.\n",
    "\n",
    "4. Accuracy: The accuracy is 0.6097, indicating that the overall correctness of the model's predictions is approximately 60.97%. However, it is worth noting that accuracy alone may not provide a complete picture of the model's performance, especially in imbalanced datasets.\n",
    "\n",
    "Considering the relatively high recall, F1 score, precision, and accuracy, we can suggests that the model is performing reasonably well. However, further evaluation and comparison with other models or other approaches are necessary to determine its effectiveness in the specific task or domain."
   ]
  },
  {
   "cell_type": "code",
   "execution_count": 285,
   "metadata": {},
   "outputs": [
    {
     "data": {
      "text/html": [
       "<div>\n",
       "<style scoped>\n",
       "    .dataframe tbody tr th:only-of-type {\n",
       "        vertical-align: middle;\n",
       "    }\n",
       "\n",
       "    .dataframe tbody tr th {\n",
       "        vertical-align: top;\n",
       "    }\n",
       "\n",
       "    .dataframe thead th {\n",
       "        text-align: right;\n",
       "    }\n",
       "</style>\n",
       "<table border=\"1\" class=\"dataframe\">\n",
       "  <thead>\n",
       "    <tr style=\"text-align: right;\">\n",
       "      <th>Predict</th>\n",
       "      <th>0</th>\n",
       "      <th>1</th>\n",
       "      <th>All</th>\n",
       "    </tr>\n",
       "    <tr>\n",
       "      <th>Actual</th>\n",
       "      <th></th>\n",
       "      <th></th>\n",
       "      <th></th>\n",
       "    </tr>\n",
       "  </thead>\n",
       "  <tbody>\n",
       "    <tr>\n",
       "      <th>0</th>\n",
       "      <td>7103</td>\n",
       "      <td>17</td>\n",
       "      <td>7120</td>\n",
       "    </tr>\n",
       "    <tr>\n",
       "      <th>1</th>\n",
       "      <td>870</td>\n",
       "      <td>2</td>\n",
       "      <td>872</td>\n",
       "    </tr>\n",
       "    <tr>\n",
       "      <th>All</th>\n",
       "      <td>7973</td>\n",
       "      <td>19</td>\n",
       "      <td>7992</td>\n",
       "    </tr>\n",
       "  </tbody>\n",
       "</table>\n",
       "</div>"
      ],
      "text/plain": [
       "Predict     0   1   All\n",
       "Actual                 \n",
       "0        7103  17  7120\n",
       "1         870   2   872\n",
       "All      7973  19  7992"
      ]
     },
     "execution_count": 285,
     "metadata": {},
     "output_type": "execute_result"
    }
   ],
   "source": [
    "logit_pred = logit.predict(X_test_scaled)\n",
    "pd.crosstab(pd.Series(y_test, name = 'Actual'), pd.Series(logit_pred, name = 'Predict'), margins = True)"
   ]
  },
  {
   "cell_type": "markdown",
   "metadata": {},
   "source": [
    "The table above represents a confusion matrix for a classification model's predictions. The rows represent the actual classes, and the columns represent the predicted classes. Each cell in the table shows the count of instances where the predicted class aligns with the actual class.\n",
    "\n",
    ">1. The top left cell (row 0, column 0) shows that the model predicted 7,103 instances as class 0 when the actual class was also 0.\n",
    ">2. The top right cell (row 0, column 1) shows that the model predicted 17 instances as class 1 when the actual class was 0.\n",
    ">3. The bottom left cell (row 1, column 0) shows that the model predicted 870 instances as class 0 when the actual class was 1.\n",
    ">4. The bottom right cell (row 1, column 1) shows that the model predicted 2 instance as class 1 when the actual class was also 1."
   ]
  },
  {
   "cell_type": "markdown",
   "metadata": {},
   "source": [
    "#### **Creating a multiclass evaluator that will evalute the model**\n",
    "We named the class a MulticlassEvaluator because it will be used to evaluate multiple models, plot ROC curve and a connfusion matrix at the same time. "
   ]
  },
  {
   "cell_type": "code",
   "execution_count": 286,
   "metadata": {},
   "outputs": [],
   "source": [
    "# Creating a class for the modeling\n",
    "\n",
    "class MulticlassEvaluator:\n",
    "    # Instantiate the class\n",
    "    def __init__(self, n_class=2):\n",
    "        self.n_class = n_class\n",
    "    \n",
    "    # Create a method to evaluate the model\n",
    "    def evaluate(self, y_true, y_pred, X_test, X_train, clf):\n",
    "        print(f\"Training score: {clf.score(X_train, y_train)}\\nTest Score: {clf.score(X_test, y_test)}\")\n",
    "\n",
    "        # Print classification report\n",
    "        print('\\n')\n",
    "        print('Classification Report')\n",
    "        print('_____________')\n",
    "        print(classification_report(y_true=y_true, y_pred=y_pred))\n",
    "\n",
    "        # Create a figure/axes for confusion matrix and ROC curve\n",
    "        fig, ax = plt.subplots(ncols=2, figsize=(12, 5))\n",
    "\n",
    "        # Plot the normalized confusion matrix\n",
    "        plot_confusion_matrix(estimator=clf, X=X_test, y_true=y_true, cmap='BrBG_r',\n",
    "                              normalize='true', ax=ax[0],\n",
    "                              display_labels=['0', '1'])\n",
    "\n",
    "        pred_prob = clf.predict_proba(X_test)\n",
    "\n",
    "        # Plot the ROC curve\n",
    "        fpr = {}\n",
    "        tpr = {}\n",
    "        thresh = {}\n",
    "\n",
    "        for i in range(self.n_class):\n",
    "            fpr[i], tpr[i], thresh[i] = roc_curve(y_true, pred_prob[:, i], pos_label=i)\n",
    "\n",
    "        ax[1].plot(fpr[0], tpr[0], linestyle='--', color='red', label='0')\n",
    "        ax[1].plot(fpr[1], tpr[1], linestyle='--', color='black', label='1')\n",
    "\n",
    "        ax[1].set_title('Multiclass ROC curve')\n",
    "        ax[1].set_xlabel('False Positive Rate')\n",
    "        ax[1].set_ylabel('True Positive rate')\n",
    "        ax[1].legend(loc='best')\n",
    "        ax[1].plot([0, 1], [0, 1], ls='--', color='cyan')\n"
   ]
  },
  {
   "cell_type": "markdown",
   "metadata": {},
   "source": [
    "## <span style='color:purple'> **3. Logistic Regression with Pipeline**</SPAN>\n",
    "We want to use pipeline here to simplify the workflow by optimizing and automating various stages of the model and making prediction  "
   ]
  },
  {
   "cell_type": "code",
   "execution_count": 287,
   "metadata": {},
   "outputs": [
    {
     "name": "stdout",
     "output_type": "stream",
     "text": [
      "Training score: 0.6042060193930235\n",
      "Test Score: 0.609400579272132\n",
      "\n",
      "\n",
      "Classification Report\n",
      "_____________\n",
      "              precision    recall  f1-score   support\n",
      "\n",
      "           0       0.60      0.65      0.63     16009\n",
      "           1       0.61      0.57      0.59     15755\n",
      "\n",
      "    accuracy                           0.61     31764\n",
      "   macro avg       0.61      0.61      0.61     31764\n",
      "weighted avg       0.61      0.61      0.61     31764\n",
      "\n"
     ]
    },
    {
     "data": {
      "image/png": "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",
      "text/plain": [
       "<Figure size 864x360 with 3 Axes>"
      ]
     },
     "metadata": {
      "needs_background": "light"
     },
     "output_type": "display_data"
    }
   ],
   "source": [
    "# Creating a pipeline baseline Logistic Regression model\n",
    "\n",
    "# Create the pipeline: pipeline\n",
    "lr_pipe = Pipeline([('Scaler', StandardScaler()), \n",
    "                    ('clf', LogisticRegression(class_weight='balanced', random_state=42))\n",
    "                    ])\n",
    "\n",
    "# Fit the model\n",
    "lr_pipe.fit(X_train_scaled, y_train)\n",
    "\n",
    "# Predict the labels of the test set: y_pred\n",
    "\n",
    "y_pred = lr_pipe.predict(X_test_scaled)\n",
    "\n",
    "# Evaluate the model and make confusion matrix\n",
    "evaluator = MulticlassEvaluator()\n",
    "evaluator.evaluate(y_test, y_pred, X_test_scaled, X_train_scaled, lr_pipe)\n",
    "\n"
   ]
  },
  {
   "cell_type": "markdown",
   "metadata": {},
   "source": [
    "Based on the provided metrics above, the model's performance seems to be consistent across training and test datasets:\n",
    "\n",
    "1. Training Score: The training score is 0.6042, indicating that the model achieves an accuracy of approximately 60.42% on the training data.\n",
    "\n",
    "2. Test Score: The test score is 0.6094, indicating that the model achieves an accuracy of approximately 60.94% on the test data. The test score is comparable to the training score, suggesting that the model is not overfitting or underfitting the training data.\n",
    "\n",
    "3. Recall: The recall is 0.61, which indicates that the model can correctly identify approximately 61% of the positive instances out of all the actual positive instances. This value is consistent with the precision and F1 score, suggesting that the model is performing consistently in identifying positive cases.\n",
    "\n",
    "4. F1 Score: The F1 score is 0.61, indicating a reasonable balance between precision and recall. This suggests that the model is performing well in both correctly classifying positive instances and minimizing false positives.\n",
    "\n",
    "5. Precision: The precision is 0.61, indicating that when the model predicts a positive instance, it is correct approximately 61% of the time. This value is consistent with the recall and F1 score, further indicating the model's consistent performance.\n",
    "\n",
    "6. Accuracy: The accuracy is 0.61, indicating that the overall correctness of the model's predictions is approximately 61%. This value is consistent with the training and test scores, reinforcing the notion that the model is performing consistently across the dataset.\n",
    "\n",
    "Considering the relatively high recall, F1 score, precision, and accuracy, we can suggests that the model has achieved a decent level of performance. However, further evaluation and comparison with other models or other approaches are necessary to determine its effectiveness in the specific task or domain."
   ]
  },
  {
   "cell_type": "markdown",
   "metadata": {},
   "source": [
    "#### **Plotting the top 20 important features of the Logistic Regression**"
   ]
  },
  {
   "cell_type": "code",
   "execution_count": 288,
   "metadata": {},
   "outputs": [],
   "source": [
    "\n",
    "# Create functionn to print a list of top most features based on importance\n",
    "def plot_top_features(X_train, lr_pipe, n=20):\n",
    "    feature_names = X_train.columns\n",
    "    feature_imports = lr_pipe.named_steps['clf'].coef_[0]\n",
    "    most_imp_features = pd.DataFrame([f for f in zip(feature_names, feature_imports)], columns=[\"Feature\", \"Importance\"]).nlargest(n, \"Importance\")\n",
    "    most_imp_features.sort_values(by=\"Importance\", inplace=True)\n",
    "\n",
    "    # Plot the most important features\n",
    "    plt.figure(figsize=(10, 6))\n",
    "    plt.barh(range(len(most_imp_features)), most_imp_features.Importance, align='center', alpha=0.8)\n",
    "    plt.yticks(range(len(most_imp_features)), most_imp_features.Feature, fontsize=14)\n",
    "    plt.xlabel('Importance')\n",
    "    plt.title('Most important features - Logistic Regression')\n",
    "    plt.show()\n"
   ]
  },
  {
   "cell_type": "code",
   "execution_count": 289,
   "metadata": {},
   "outputs": [
    {
     "data": {
      "image/png": "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",
      "text/plain": [
       "<Figure size 720x432 with 1 Axes>"
      ]
     },
     "metadata": {
      "needs_background": "light"
     },
     "output_type": "display_data"
    }
   ],
   "source": [
    "plot_top_features(X_train, lr_pipe, n=20)\n"
   ]
  },
  {
   "cell_type": "markdown",
   "metadata": {},
   "source": [
    "## <span style='color:green'>**4. Random Forest Classifier with Pipeline**</SPAN>\n"
   ]
  },
  {
   "cell_type": "markdown",
   "metadata": {},
   "source": [
    "We will perform a Random Forest Classifier to compare with the dummy models, and logistic regression model to see which one performs best. "
   ]
  },
  {
   "cell_type": "code",
   "execution_count": 290,
   "metadata": {},
   "outputs": [
    {
     "name": "stdout",
     "output_type": "stream",
     "text": [
      "Training score: 0.9999895059396382\n",
      "Test Score: 0.9364374763883642\n",
      "\n",
      "\n",
      "Classification Report\n",
      "_____________\n",
      "              precision    recall  f1-score   support\n",
      "\n",
      "           0       0.89      1.00      0.94     16009\n",
      "           1       0.99      0.88      0.93     15755\n",
      "\n",
      "    accuracy                           0.94     31764\n",
      "   macro avg       0.94      0.94      0.94     31764\n",
      "weighted avg       0.94      0.94      0.94     31764\n",
      "\n"
     ]
    },
    {
     "data": {
      "image/png": "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",
      "text/plain": [
       "<Figure size 864x360 with 3 Axes>"
      ]
     },
     "metadata": {
      "needs_background": "light"
     },
     "output_type": "display_data"
    }
   ],
   "source": [
    "# Implimenting a Random Forest Classifier with Pipeline\n",
    "# Create a Pipeline\n",
    "rf_model_final = Pipeline([('scaler', StandardScaler()),\n",
    "                           ('rf', RandomForestClassifier(criterion='entropy', max_depth=31, \n",
    "                                                        max_features='auto', random_state=42))\n",
    "                          ])\n",
    "\n",
    "# Fit the model\n",
    "rf_model_final.fit(X_train_scaled, y_train)\n",
    "\n",
    "# Predict\n",
    "y_pred = rf_model_final.predict(X_test_scaled)\n",
    "\n",
    "# Evaluate the model and make confusion matrix\n",
    "evaluator = MulticlassEvaluator()\n",
    "evaluator.evaluate(y_test, y_pred, X_test_scaled, X_train_scaled, rf_model_final)"
   ]
  },
  {
   "cell_type": "markdown",
   "metadata": {},
   "source": [
    "Based on the provided metrics, the model's performance appears to be excellent. Let's analyze the metrics:\n",
    "\n",
    "1. Training Score: The training score is 0.9999, indicating that the model achieves a very high accuracy of approximately 99.99% on the training data. This suggests that the model has learned the training data extremely well with a slight overfitting.\n",
    "\n",
    "2. Test Score: The test score is 0.9364, indicating that the model achieves an accuracy of approximately 93.64% on the test data. This is a high accuracy score and suggests that the model performs well on unseen data.\n",
    "\n",
    "3. Recall: The recall is 0.94, indicating that the model can correctly identify approximately 94% of the positive instances out of all the actual positive instances. This indicates a high sensitivity in correctly identifying positive cases.\n",
    "\n",
    "4. F1 Score: The F1 score is 0.94, indicating a high harmonic mean of precision and recall. This suggests a good balance between correctly classifying positive instances and minimizing false positives.\n",
    "\n",
    "5. Precision: The precision is 0.94, indicating that when the model predicts a positive instance, it is correct approximately 94% of the time. This indicates a high level of precision in identifying positive cases.\n",
    "\n",
    "6. Accuracy: The accuracy is 0.94, indicating that the overall correctness of the model's predictions is approximately 94%. This high accuracy score suggests that the model performs well overall.\n",
    "\n",
    "Based on these metrics, the model demonstrates excellent performance in terms of accuracy, precision, recall, and F1 score. Additionally, it is worth investigating potential sources of overfitting between the training and test scores."
   ]
  },
  {
   "cell_type": "markdown",
   "metadata": {},
   "source": [
    "#### **Plotting the top 20 important features of the Random Forest Classifier**"
   ]
  },
  {
   "cell_type": "code",
   "execution_count": 291,
   "metadata": {},
   "outputs": [
    {
     "data": {
      "image/png": "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",
      "text/plain": [
       "<Figure size 720x432 with 1 Axes>"
      ]
     },
     "metadata": {
      "needs_background": "light"
     },
     "output_type": "display_data"
    }
   ],
   "source": [
    "# Create list of top most features based on importance\n",
    "feature_names = X_train.columns\n",
    "\n",
    "# Create a DataFrame with the most important features for random forest model\n",
    "feature_imports = rf_model_final.named_steps['rf'].feature_importances_\n",
    "most_imp_features = pd.DataFrame([f for f in zip(feature_names,feature_imports)], columns=[\"Feature\", \"Importance\"]).nlargest(20, \"Importance\")\n",
    "most_imp_features.sort_values(by=\"Importance\", inplace=True)\n",
    "\n",
    "# Plot the most important features\n",
    "plt.figure(figsize=(10,6))\n",
    "plt.barh(range(len(most_imp_features)), most_imp_features.Importance, align='center', alpha=0.8)\n",
    "plt.yticks(range(len(most_imp_features)), most_imp_features.Feature, fontsize=14)\n",
    "plt.xlabel('Importance')\n",
    "plt.title('Most important features - Random Forest ')\n",
    "plt.show()"
   ]
  },
  {
   "cell_type": "markdown",
   "metadata": {},
   "source": [
    "## <span style='color:green'> **5. Decision Tree Classifier with Pipeline**</SPAN>"
   ]
  },
  {
   "cell_type": "markdown",
   "metadata": {},
   "source": [
    "Decision tree is one of the most powerful tools of supervised learning algorithms used for both classification and regression tasks. It builds a flowchart-like tree structure where each internal node denotes a test on an attribute, each branch represents an outcome of the test, and each leaf node (terminal node) holds a class label. \n",
    "\n",
    "During training, the Decision Tree algorithm selects the best attribute to split the data based on a metric such as entropy or Gini impurity, which measures the level of impurity or randomness in the subsets. The goal is to find the attribute that maximizes the information gain or the reduction in impurity after the split."
   ]
  },
  {
   "cell_type": "code",
   "execution_count": 292,
   "metadata": {},
   "outputs": [
    {
     "name": "stdout",
     "output_type": "stream",
     "text": [
      "Training score: 0.9868089661251731\n",
      "Test Score: 0.8603450447046972\n",
      "\n",
      "\n",
      "Classification Report\n",
      "_____________\n",
      "              precision    recall  f1-score   support\n",
      "\n",
      "           0       0.86      0.86      0.86     16009\n",
      "           1       0.86      0.86      0.86     15755\n",
      "\n",
      "    accuracy                           0.86     31764\n",
      "   macro avg       0.86      0.86      0.86     31764\n",
      "weighted avg       0.86      0.86      0.86     31764\n",
      "\n"
     ]
    },
    {
     "data": {
      "image/png": "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",
      "text/plain": [
       "<Figure size 864x360 with 3 Axes>"
      ]
     },
     "metadata": {
      "needs_background": "light"
     },
     "output_type": "display_data"
    }
   ],
   "source": [
    "\n",
    "# Create a Pipeline\n",
    "dt_model_final = Pipeline([('scaler', StandardScaler()),\n",
    "                           ('dt', DecisionTreeClassifier(criterion='entropy', max_depth=31, \n",
    "                                                        max_features='auto', random_state=42))\n",
    "                          ])\n",
    "\n",
    "# Fit the model\n",
    "dt_model_final.fit(X_train_scaled, y_train)\n",
    "\n",
    "# Predict\n",
    "y_pred = dt_model_final.predict(X_test_scaled)\n",
    "\n",
    "# Evaluate the model and make confusion matrix\n",
    "evaluator = MulticlassEvaluator()\n",
    "evaluator.evaluate(y_test, y_pred, X_test_scaled, X_train_scaled, dt_model_final)"
   ]
  },
  {
   "cell_type": "markdown",
   "metadata": {},
   "source": [
    "Based on the output of the metrics, we can say that the model's performance seems to be good:\n",
    "\n",
    "1. Training Score: The training score is 0.9868, indicating that the model achieves a relatively high accuracy of approximately 98.68% on the training data. This suggests that the model performs well on the data it was trained on with a slight overfittng.\n",
    "\n",
    "2. Test Score: The test score is 0.8603, indicating that the model achieves an accuracy of approximately 86.03% on the test data. Although slightly lower than the training score, it is still a relatively good accuracy score and suggests that the model generalizes reasonably well to unseen data.\n",
    "\n",
    "3. Recall: The recall is 0.86, indicating that the model can correctly identify approximately 86% of the positive instances out of all the actual positive instances. This suggests a relatively good sensitivity in correctly identifying positive cases.\n",
    "\n",
    "4. F1 Score: The F1 score is 0.86, indicating a good balance between precision and recall. This suggests that the model achieves a reasonable trade-off between correctly classifying positive instances and minimizing false positives.\n",
    "\n",
    "5. Precision: The precision is 0.86, indicating that when the model predicts a positive instance, it is correct approximately 86% of the time. This indicates a relatively good level of precision in identifying positive cases.\n",
    "\n",
    "6. Accuracy: The accuracy is 0.86, indicating that the overall correctness of the model's predictions is approximately 86%. This accuracy score suggests that the model performs reasonably well overall.\n",
    "\n",
    "Based on these metrics outcome, the model demonstrates good performance in terms of accuracy, precision, recall, and F1 score. However, it is important to that the slight overfitting on the training dataset and therefore we either do hyperparameter tuning or try another model."
   ]
  },
  {
   "cell_type": "markdown",
   "metadata": {},
   "source": [
    "#### **Plotting the top 20 important features of the Decision Tree Classifier**"
   ]
  },
  {
   "cell_type": "code",
   "execution_count": 293,
   "metadata": {},
   "outputs": [
    {
     "data": {
      "image/png": "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",
      "text/plain": [
       "<Figure size 720x432 with 1 Axes>"
      ]
     },
     "metadata": {
      "needs_background": "light"
     },
     "output_type": "display_data"
    }
   ],
   "source": [
    "# Create list of top most features based on importance\n",
    "feature_names = X_train.columns\n",
    "\n",
    "# Create a DataFrame with the most important features\n",
    "feature_imports = dt_model_final.named_steps['dt'].feature_importances_\n",
    "most_imp_features = pd.DataFrame([f for f in zip(feature_names,feature_imports)], columns=[\"Feature\", \"Importance\"]).nlargest(20, \"Importance\")\n",
    "most_imp_features.sort_values(by=\"Importance\", inplace=True)\n",
    "\n",
    "# Plot the most important features\n",
    "plt.figure(figsize=(10,6))\n",
    "plt.barh(range(len(most_imp_features)), most_imp_features.Importance, align='center', alpha=0.8)\n",
    "plt.yticks(range(len(most_imp_features)), most_imp_features.Feature, fontsize=14)\n",
    "plt.xlabel('Importance')\n",
    "plt.title('Most important features - Decision Tree Classifier ')\n",
    "plt.show()"
   ]
  },
  {
   "cell_type": "markdown",
   "metadata": {},
   "source": [
    "## <span style='color:cyan'> **5. XGBoost Classifier with Pipeline**</SPAN>"
   ]
  },
  {
   "cell_type": "code",
   "execution_count": 294,
   "metadata": {},
   "outputs": [
    {
     "name": "stdout",
     "output_type": "stream",
     "text": [
      "Training score: 0.9384523359778365\n",
      "Test Score: 0.9338559375393527\n",
      "\n",
      "\n",
      "Classification Report\n",
      "_____________\n",
      "              precision    recall  f1-score   support\n",
      "\n",
      "           0       0.89      1.00      0.94     16009\n",
      "           1       1.00      0.87      0.93     15755\n",
      "\n",
      "    accuracy                           0.93     31764\n",
      "   macro avg       0.94      0.93      0.93     31764\n",
      "weighted avg       0.94      0.93      0.93     31764\n",
      "\n"
     ]
    },
    {
     "data": {
      "image/png": "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",
      "text/plain": [
       "<Figure size 864x360 with 3 Axes>"
      ]
     },
     "metadata": {
      "needs_background": "light"
     },
     "output_type": "display_data"
    }
   ],
   "source": [
    "# Create a Pipeline\n",
    "xgb_model = Pipeline([('scaler', StandardScaler()),\n",
    "                           ('xgb', xgboost.XGBClassifier( random_state=42))\n",
    "                          ])\n",
    "\n",
    "# Fit the model\n",
    "xgb_model.fit(X_train_scaled, y_train)\n",
    "\n",
    "# Predict\n",
    "y_pred = xgb_model.predict(X_test_scaled)\n",
    "\n",
    "# Evaluate the model and make confusion matrix\n",
    "evaluator = MulticlassEvaluator()\n",
    "evaluator.evaluate(y_test, y_pred, X_test_scaled, X_train_scaled, xgb_model)"
   ]
  },
  {
   "cell_type": "markdown",
   "metadata": {},
   "source": [
    "From the metrics above, we can confidently say that the model's performance appears to be very good:\n",
    "\n",
    "1. Training Score: The training score is 0.9385, indicating that the model achieves a high accuracy of approximately 93.85% on the training data. This suggests that the model performs well on the data it was trained on.\n",
    "\n",
    "2. Test Score: The test score is 0.9339, indicating that the model achieves a high accuracy of approximately 93.39% on the test data. The test score is similar to the training score, indicating that the model is not overfitting or underfitting the training data and generalizes well to unseen data.\n",
    "\n",
    "3. Recall: The recall is 0.93, indicating that the model can correctly identify approximately 93% of the positive instances out of all the actual positive instances. This suggests a high sensitivity in correctly identifying positive cases.\n",
    "\n",
    "4. F1 Score: The F1 score is 0.93, indicating a good balance between precision and recall. This suggests that the model achieves a good trade-off between correctly classifying positive instances and minimizing false positives.\n",
    "\n",
    "5. Precision: The precision is 0.93, indicating that when the model predicts a positive instance, it is correct approximately 93% of the time. This indicates a high level of precision in identifying positive cases.\n",
    "\n",
    "6. Accuracy: The accuracy is 0.93, indicating that the overall correctness of the model's predictions is approximately 93%. This high accuracy score suggests that the model performs very well overall.\n",
    "\n",
    "Based on these metrics, the model demonstrates very good performance in terms of accuracy, precision, recall, and F1 score. It appears to be a reliable and effective model for the given task."
   ]
  },
  {
   "cell_type": "markdown",
   "metadata": {},
   "source": [
    "#### **Plotting the top 20 important features of the XGBoost Classifier**"
   ]
  },
  {
   "cell_type": "code",
   "execution_count": 295,
   "metadata": {},
   "outputs": [
    {
     "data": {
      "image/png": "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",
      "text/plain": [
       "<Figure size 720x432 with 1 Axes>"
      ]
     },
     "metadata": {
      "needs_background": "light"
     },
     "output_type": "display_data"
    }
   ],
   "source": [
    "# Create list of top most features based on importance\n",
    "feature_names = X_train.columns\n",
    "\n",
    "# using the xgboost model to get the feature importance within the pipeline\n",
    "feature_imports = xgb_model.named_steps['xgb'].feature_importances_\n",
    "most_imp_features = pd.DataFrame([f for f in zip(feature_names,feature_imports)], columns=[\"Feature\", \"Importance\"]).nlargest(20, \"Importance\")\n",
    "most_imp_features.sort_values(by=\"Importance\", inplace=True)\n",
    "\n",
    "# Plot the most important features\n",
    "plt.figure(figsize=(10,6))\n",
    "plt.barh(range(len(most_imp_features)), most_imp_features.Importance, align='center', alpha=0.8)\n",
    "plt.yticks(range(len(most_imp_features)), most_imp_features.Feature, fontsize=14)\n",
    "plt.xlabel('Importance')\n",
    "plt.title('Most important features - XGBoost Classifier ')\n",
    "plt.show()"
   ]
  },
  {
   "cell_type": "markdown",
   "metadata": {},
   "source": [
    "Models Evaluations"
   ]
  },
  {
   "cell_type": "markdown",
   "metadata": {},
   "source": [
    "The following line of code will print out the models we have used in our analysis and give use the best performing model that we will take to deployment. "
   ]
  },
  {
   "cell_type": "code",
   "execution_count": 301,
   "metadata": {},
   "outputs": [
    {
     "data": {
      "text/html": [
       "<div>\n",
       "<style scoped>\n",
       "    .dataframe tbody tr th:only-of-type {\n",
       "        vertical-align: middle;\n",
       "    }\n",
       "\n",
       "    .dataframe tbody tr th {\n",
       "        vertical-align: top;\n",
       "    }\n",
       "\n",
       "    .dataframe thead th {\n",
       "        text-align: right;\n",
       "    }\n",
       "</style>\n",
       "<table border=\"1\" class=\"dataframe\">\n",
       "  <thead>\n",
       "    <tr style=\"text-align: right;\">\n",
       "      <th></th>\n",
       "      <th>accuracy</th>\n",
       "      <th>precision</th>\n",
       "      <th>recall</th>\n",
       "      <th>f1</th>\n",
       "      <th>Average</th>\n",
       "    </tr>\n",
       "  </thead>\n",
       "  <tbody>\n",
       "    <tr>\n",
       "      <th>Pipeline(steps=[('scaler', StandardScaler()),\\n                ('xgb',\\n                 XGBClassifier(base_score=None, booster=None, callbacks=None,\\n                               colsample_bylevel=None, colsample_bynode=None,\\n                               colsample_bytree=None,\\n                               early_stopping_rounds=None,\\n                               enable_categorical=False, eval_metric=None,\\n                               feature_types=None, gamma=None, gpu_id=None,\\n                               grow_policy=None, importance_type=None,\\n                               interaction_constraints=None, learning_rate=None,\\n                               max_bin=None, max_cat_threshold=None,\\n                               max_cat_to_onehot=None, max_delta_step=None,\\n                               max_depth=None, max_leaves=None,\\n                               min_child_weight=None, missing=nan,\\n                               monotone_constraints=None, n_estimators=100,\\n                               n_jobs=None, num_parallel_tree=None,\\n                               predictor=None, random_state=42, ...))])</th>\n",
       "      <td>0.934139</td>\n",
       "      <td>0.995937</td>\n",
       "      <td>0.872187</td>\n",
       "      <td>0.929963</td>\n",
       "      <td>0.933057</td>\n",
       "    </tr>\n",
       "    <tr>\n",
       "      <th>Pipeline(steps=[('scaler', StandardScaler()),\\n                ('rf',\\n                 RandomForestClassifier(criterion='entropy', max_depth=31,\\n                                        random_state=42))])</th>\n",
       "      <td>0.933468</td>\n",
       "      <td>0.993027</td>\n",
       "      <td>0.873422</td>\n",
       "      <td>0.929392</td>\n",
       "      <td>0.932327</td>\n",
       "    </tr>\n",
       "    <tr>\n",
       "      <th>Pipeline(steps=[('scaler', StandardScaler()),\\n                ('dt',\\n                 DecisionTreeClassifier(criterion='entropy', max_depth=31,\\n                                        max_features='auto',\\n                                        random_state=42))])</th>\n",
       "      <td>0.846304</td>\n",
       "      <td>0.847276</td>\n",
       "      <td>0.845917</td>\n",
       "      <td>0.846593</td>\n",
       "      <td>0.846522</td>\n",
       "    </tr>\n",
       "    <tr>\n",
       "      <th>DummyClassifier(random_state=42, strategy='most_frequent')</th>\n",
       "      <td>0.501333</td>\n",
       "      <td>0.501333</td>\n",
       "      <td>1.000000</td>\n",
       "      <td>0.667850</td>\n",
       "      <td>0.667629</td>\n",
       "    </tr>\n",
       "    <tr>\n",
       "      <th>LogisticRegression()</th>\n",
       "      <td>0.603325</td>\n",
       "      <td>0.612617</td>\n",
       "      <td>0.567769</td>\n",
       "      <td>0.589336</td>\n",
       "      <td>0.593261</td>\n",
       "    </tr>\n",
       "    <tr>\n",
       "      <th>Pipeline(steps=[('Scaler', StandardScaler()),\\n                ('clf',\\n                 LogisticRegression(class_weight='balanced', random_state=42))])</th>\n",
       "      <td>0.602915</td>\n",
       "      <td>0.613271</td>\n",
       "      <td>0.562891</td>\n",
       "      <td>0.586997</td>\n",
       "      <td>0.591519</td>\n",
       "    </tr>\n",
       "  </tbody>\n",
       "</table>\n",
       "</div>"
      ],
      "text/plain": [
       "                                                    accuracy  precision  \\\n",
       "Pipeline(steps=[('scaler', StandardScaler()),\\n...  0.934139   0.995937   \n",
       "Pipeline(steps=[('scaler', StandardScaler()),\\n...  0.933468   0.993027   \n",
       "Pipeline(steps=[('scaler', StandardScaler()),\\n...  0.846304   0.847276   \n",
       "DummyClassifier(random_state=42, strategy='most...  0.501333   0.501333   \n",
       "LogisticRegression()                                0.603325   0.612617   \n",
       "Pipeline(steps=[('Scaler', StandardScaler()),\\n...  0.602915   0.613271   \n",
       "\n",
       "                                                      recall        f1  \\\n",
       "Pipeline(steps=[('scaler', StandardScaler()),\\n...  0.872187  0.929963   \n",
       "Pipeline(steps=[('scaler', StandardScaler()),\\n...  0.873422  0.929392   \n",
       "Pipeline(steps=[('scaler', StandardScaler()),\\n...  0.845917  0.846593   \n",
       "DummyClassifier(random_state=42, strategy='most...  1.000000  0.667850   \n",
       "LogisticRegression()                                0.567769  0.589336   \n",
       "Pipeline(steps=[('Scaler', StandardScaler()),\\n...  0.562891  0.586997   \n",
       "\n",
       "                                                     Average  \n",
       "Pipeline(steps=[('scaler', StandardScaler()),\\n...  0.933057  \n",
       "Pipeline(steps=[('scaler', StandardScaler()),\\n...  0.932327  \n",
       "Pipeline(steps=[('scaler', StandardScaler()),\\n...  0.846522  \n",
       "DummyClassifier(random_state=42, strategy='most...  0.667629  \n",
       "LogisticRegression()                                0.593261  \n",
       "Pipeline(steps=[('Scaler', StandardScaler()),\\n...  0.591519  "
      ]
     },
     "execution_count": 301,
     "metadata": {},
     "output_type": "execute_result"
    }
   ],
   "source": [
    "\n",
    "# Define a list of models to evaluate\n",
    "models = [dummy, dummy_over, logit, logit1, lr_pipe, rf_model_final, dt_model_final, xgb_model]\n",
    "\n",
    "# Define the evaluation metrics for model selection\n",
    "metrics = ['accuracy', 'precision', 'recall', 'f1']\n",
    "\n",
    "# Convert the target variable to a pandas Series\n",
    "y = pd.Series(y_train)\n",
    "\n",
    "# Create a dictionary to store the evaluation scores for each model\n",
    "scores = {}\n",
    "\n",
    "# Evaluate each model using cross-validation\n",
    "for model in models:\n",
    "    model_scores = cross_validate(model, X_train_scaled, y_train, cv=3, scoring=metrics)\n",
    "    scores[str(model)] = {\n",
    "        metric: model_scores['test_' + metric].mean() for metric in metrics\n",
    "    }\n",
    "\n",
    "# Create a dataframe of models and scores\n",
    "df_scores = pd.DataFrame.from_dict(scores, orient='index')\n",
    "\n",
    "# Sort the dataframe by the average of the metrics in descending order\n",
    "df_scores['Average'] = df_scores.mean(axis=1)\n",
    "df_scores = df_scores.sort_values(by='Average', ascending=False)\n",
    "\n",
    "# Print the dataframe\n",
    "df_scores\n"
   ]
  },
  {
<<<<<<< HEAD
   "cell_type": "markdown",
   "metadata": {},
   "source": [
    "# Model Performance Evaluation\n",
    "\n",
    "The model performance evaluation included several algorithms such as Logistic Regression, Random Forest, Decision Tree, and XGBoost. The baseline model had poor performance, with low accuracy and recall. Logistic Regression on imbalanced data also performed poorly, indicating the impact of class imbalance. However, Logistic Regression on balanced data showed an improvement in recall but still fell short of expectations. Random Forest achieved the highest success metric with perfect recall for the positive class and high accuracy. Decision Tree had high accuracy but slightly lower recall. XGBoost performed well, with high recall and accuracy.\n",
    "\n",
    "## Model Results\n",
    "\n",
    "### Baseline Model\n",
    "\n",
    "- Accuracy: 8.882\n",
    "- Precision: 0.88\n",
    "- Recall: 0.00\n",
    "- F1-score: 1.00\n",
    "- Support: 21102\n",
    "\n",
    "### Logistic Regression: Imbalanced Data\n",
    "\n",
    "- Recall: 0.0046\n",
    "- Precision: 0.2281\n",
    "- F1-score: 0.0091\n",
    "- Accuracy: 0.8812\n",
    "\n",
    "### Logistic Regression: Balanced Data\n",
    "\n",
    "- Recall: 0.05\n",
    "- Precision: 0.61\n",
    "- F1-score: 0.59\n",
    "- Accuracy: 0.61\n",
    "\n",
    "### Random Forest\n",
    "\n",
    "- Precision: 0.89\n",
    "- Recall: 1.00\n",
    "- F1-score: 0.94\n",
    "- Accuracy: 0.94\n",
    "\n",
    "### Decision Tree\n",
    "\n",
    "- Precision: 0.88\n",
    "- Recall: 0.86\n",
    "- F1-score: 0.88\n",
    "- Accuracy: 0.86\n",
    "\n",
    "### XGBoost\n",
    "\n",
    "- Precision: 0.89\n",
    "- Recall: 0.93\n",
    "- F1-score: 0.93\n",
    "- Accuracy: 0.93\n",
    "\n",
    "## Conclusions\n",
    "\n",
    "Based on the evaluation results, the following conclusions can be drawn:\n",
    "\n",
    "- The baseline model performed poorly, with an accuracy of 8.882 and low recall for the positive class.\n",
    "- Logistic Regression with imbalanced data had very low recall and precision.\n",
    "- Logistic Regression with balanced data improved the recall to 0.05 but is still not satisfactory.\n",
    "- Random Forest achieved the highest success metric with a recall of 1.00 and an accuracy of 0.94.\n",
    "- Decision Tree had high accuracy but slightly lower recall compared to other models.\n",
    "- XGBoost performed well with a recall of 0.93 and high accuracy.\n",
    "\n",
    "## Recommendations\n",
    "\n",
    "Based on the evaluation, the following recommendations can be made:\n",
    "\n",
    "- Random Forest and XGBoost are recommended models due to their higher recall and accuracy compared to other models.\n",
    "- Consider further optimizing the models to improve the recall for the positive class.\n",
    "- Explore additional techniques to handle class imbalance, such as oversampling or undersampling.\n",
    "- Gather more data, if possible, to increase the representation of the positive class and reduce class imbalance.\n",
    "- Conduct feature engineering to identify more informative features that can enhance the model's predictive power.\n",
    "- Explore ensemble methods to combine the strengths of multiple models and improve overall performance.\n",
    "- Consider using a different evaluation metric, such as the F1-score, to evaluate the models.\n",
    "\n",
    "## Challenges\n",
    "\n",
    "The main challenges faced during the evaluation process include:\n",
    "- Finding the right balance between model performance and computational efficiency.\n",
    "- Dealing with class imbalance, where the majority class dominated the training data.\n",
    "- Achieving a satisfactory recall for the positive class.\n",
    "- Identifying the most informative features to improve the model's predictive power.\n",
    "- Determining the best model to use for the classification task.\n",
    "- Optimizing the model to achieve the best performance.\n",
    "- Determining the best evaluation metric to use for the classification task.\n",
    "- \n",
    "\n",
    "## Next Steps\n",
    "\n",
    "To further improve the model performance and address the challenges faced, the following next steps are suggested:\n",
    "\n",
    "- Conduct feature engineering to identify more informative features that can enhance the model's predictive power.\n",
    "- Explore ensemble methods to combine the strengths of multiple models and improve overall performance.\n",
    "- Gather more data, if possible, to increase the representation of the positive class and reduce class imbalance.\n",
    "- Explore additional techniques to handle class imbalance, such as oversampling or undersampling.\n",
    "- Optimize the models to improve the recall for the positive class.\n",
    "- Explore additional evaluation metrics to determine the best model for the classification task.\n",
    "- Deploy the model to a production environment to make predictions on new data.\n"
=======
   "cell_type": "code",
   "execution_count": 302,
   "metadata": {},
   "outputs": [],
   "source": [
    "# Pikle the best model\n",
    "\n",
    "import pickle\n",
    "pickle_out = open(\"xgb_model.pkl\", \"wb\")\n",
    "\n",
    "pickle.dump(xgb_model, pickle_out)\n",
    "\n",
    "pickle_out.close()"
   ]
  },
  {
   "cell_type": "code",
   "execution_count": 303,
   "metadata": {},
   "outputs": [],
   "source": [
    "\n",
    "with open(\"xgb_model.pkl\", \"rb\") as f:\n",
    "    model = pickle.load(f)\n",
    "    "
>>>>>>> 2259e2bb8d777953989df56020ebb0a162ca75cd
   ]
  }
 ],
 "metadata": {
  "kernelspec": {
   "display_name": "learn-env",
   "language": "python",
   "name": "python3"
  },
  "language_info": {
   "codemirror_mode": {
    "name": "ipython",
    "version": 3
   },
   "file_extension": ".py",
   "mimetype": "text/x-python",
   "name": "python",
   "nbconvert_exporter": "python",
   "pygments_lexer": "ipython3",
   "version": "3.8.5"
  },
  "orig_nbformat": 4
 },
 "nbformat": 4,
 "nbformat_minor": 2
}
